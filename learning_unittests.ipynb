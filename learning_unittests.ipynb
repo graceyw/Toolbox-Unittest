{
 "cells": [
  {
   "cell_type": "markdown",
   "metadata": {},
   "source": [
    "# Understanding Unittests\n",
    "## Software Design Spring 2017\n",
    "### Gracey Wilson\n",
    "\n",
    "\n",
    "**Notes from Python Chapter 26.4 reading:**\n",
    "\n",
    "**test fixture:** represents the preparation needed to perform one or more tests, and any associate cleanup actions. This may involve, for example, creating temporary or proxy databases, directories, or starting a server process.\n",
    "\n",
    "**test case:** the individual unit of testing. It checks for a specific response to a particular set of inputs. unittest provides a base class, TestCase, which may be used to create new test cases.\n",
    "\n",
    "**test suite:** a collection of test cases, test suites, or both. It is used to aggregate tests that should be executed together.\n",
    "\n",
    "**test runner:** a component which orchestrates the execution of tests and provides the outcome to the user. The runner may use a graphical interface, a textual interface, or return a special value to indicate the results of executing the tests. "
   ]
  },
  {
   "cell_type": "code",
   "execution_count": 24,
   "metadata": {
    "collapsed": false
   },
   "outputs": [
    {
     "data": {
      "text/plain": [
       "[1, 0, 3]"
      ]
     },
     "execution_count": 24,
     "metadata": {},
     "output_type": "execute_result"
    }
   ],
   "source": [
    "def rm_negs(num_list):\n",
    "    \n",
    "    '''Removes negative numbers from a list'''\n",
    "    \n",
    "    num_list = [item for item in num_list if item >= 0]\n",
    "    return num_list\n",
    "\n",
    "rm_negs([1,-1,0,3,-3,-4])"
   ]
  },
  {
   "cell_type": "code",
   "execution_count": 25,
   "metadata": {
    "collapsed": false
   },
   "outputs": [
    {
     "data": {
      "text/plain": [
       "[0, 1, 3]"
      ]
     },
     "execution_count": 25,
     "metadata": {},
     "output_type": "execute_result"
    }
   ],
   "source": [
    "def sort_rm_negs(num_list):\n",
    "    \n",
    "    '''Sorts and removes negative numbers from a list.'''\n",
    "    \n",
    "    num_list = [item for item in num_list if item >= 0]\n",
    "    done = sorted(num_list)\n",
    "    return done\n",
    "\n",
    "sort_rm_neg([1,-1,0,3,-3,-4])"
   ]
  },
  {
   "cell_type": "code",
   "execution_count": 27,
   "metadata": {
    "collapsed": false
   },
   "outputs": [
    {
     "name": "stderr",
     "output_type": "stream",
     "text": [
      "E\n",
      "======================================================================\n",
      "ERROR: /run/user/1000/jupyter/kernel-109ed371-162d-4695-8037-8ebed5a24f33 (unittest.loader._FailedTest)\n",
      "----------------------------------------------------------------------\n",
      "AttributeError: module '__main__' has no attribute '/run/user/1000/jupyter/kernel-109ed371-162d-4695-8037-8ebed5a24f33'\n",
      "\n",
      "----------------------------------------------------------------------\n",
      "Ran 1 test in 0.001s\n",
      "\n",
      "FAILED (errors=1)\n"
     ]
    },
    {
     "ename": "SystemExit",
     "evalue": "True",
     "output_type": "error",
     "traceback": [
      "An exception has occurred, use %tb to see the full traceback.\n",
      "\u001b[0;31mSystemExit\u001b[0m\u001b[0;31m:\u001b[0m True\n"
     ]
    },
    {
     "name": "stderr",
     "output_type": "stream",
     "text": [
      "/home/gracey/.local/lib/python3.5/site-packages/IPython/core/interactiveshell.py:2889: UserWarning: To exit: use 'exit', 'quit', or Ctrl-D.\n",
      "  warn(\"To exit: use 'exit', 'quit', or Ctrl-D.\", stacklevel=1)\n"
     ]
    }
   ],
   "source": [
    "import unittest\n",
    "\n",
    "class TestFunctions(unittest.TestCase):\n",
    "\n",
    "    def test_rm_neg(self):\n",
    "        '''Tests the function I wrote to ensure it removes negative numbers effectively.'''\n",
    "        num_list = [5,3,0,-7,-3]\n",
    "        self.assertEqual(rem_negs(num_list), [5,3,0])\n",
    "    \n",
    "    def test_sort(self):\n",
    "        '''Tests Python's \"sorted\" method to ensure it sorts a list of integers effectively.'''\n",
    "        num_list = [5,3,0,-7,-3]\n",
    "        self.assertEqual(sorted(num_list), [-7,-3,0,3,5])\n",
    "        \n",
    "if __name__ == '__main__':\n",
    "    unittest.main()"
   ]
  },
  {
   "cell_type": "code",
   "execution_count": null,
   "metadata": {
    "collapsed": true
   },
   "outputs": [],
   "source": []
  }
 ],
 "metadata": {
  "kernelspec": {
   "display_name": "Python 3",
   "language": "python",
   "name": "python3"
  },
  "language_info": {
   "codemirror_mode": {
    "name": "ipython",
    "version": 3
   },
   "file_extension": ".py",
   "mimetype": "text/x-python",
   "name": "python",
   "nbconvert_exporter": "python",
   "pygments_lexer": "ipython3",
   "version": "3.5.2"
  }
 },
 "nbformat": 4,
 "nbformat_minor": 2
}
